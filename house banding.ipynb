{
 "cells": [
  {
   "cell_type": "code",
   "execution_count": 1,
   "id": "375d226acbe35aa6",
   "metadata": {
    "ExecuteTime": {
     "end_time": "2024-06-29T12:31:14.854623Z",
     "start_time": "2024-06-29T12:31:14.825897Z"
    }
   },
   "outputs": [
    {
     "name": "stdout",
     "output_type": "stream",
     "text": [
      "Columns in df1: Index(['תאריך רכישה', 'שם בית עסק', 'סכום עסקה', 'מטבע מקור', 'סכום חיוב',\n",
      "       'מטבע לחיוב', 'מספר שובר', 'פירוט נוסף'],\n",
      "      dtype='object')\n",
      "Columns in df2: Index(['תאריך', 'סוג פעולה', 'תיאור', 'אסמכתא', 'זכות', 'חובה', 'תאריך ערך',\n",
      "       'יתרה'],\n",
      "      dtype='object')\n"
     ]
    }
   ],
   "source": [
    "import pandas as pd\n",
    "\n",
    "# קריאת הנתונים מהקובץ\n",
    "csv_file_1 = '/Users/guylavian/Downloads/Export_6_2024 (1).csv'\n",
    "csv_file_2 = '/Users/guylavian/Downloads/1110624.csv'\n",
    "\n",
    "\n",
    "# קריאת הקבצים עם הגדרת הכותרות\n",
    "df1 = pd.read_csv(csv_file_1, header=4)\n",
    "df2 = pd.read_csv(csv_file_2, header=0)\n",
    "\n",
    "\n",
    "# הצגת שמות העמודות\n",
    "df1_columns = df1.columns\n",
    "df2_columns = df2.columns\n",
    "\n",
    "print(\"Columns in df1:\", df1_columns)\n",
    "print(\"Columns in df2:\", df2_columns)\n",
    "\n",
    "\n",
    "# שמירת הנתונים הנקיים\n",
    "df1.to_csv('/Users/guylavian/Downloads/cleaned_Export_6_2024.csv', index=False)\n",
    "df2.to_csv('/Users/guylavian/Downloads/cleaned_0624.csv', index=False)\n",
    "\n"
   ]
  },
  {
   "cell_type": "code",
   "execution_count": 2,
   "id": "ebea4cacf5a243e4",
   "metadata": {
    "ExecuteTime": {
     "end_time": "2024-06-29T13:08:37.230747Z",
     "start_time": "2024-06-29T13:08:37.174571Z"
    }
   },
   "outputs": [
    {
     "data": {
      "application/vnd.jupyter.widget-view+json": {
       "model_id": "57dedfb1f35f4603b87c232964ffe7a1",
       "version_major": 2,
       "version_minor": 0
      },
      "text/plain": [
       "VBox(children=(HTML(value='<h2>פילוח הכנסות לפי קטגוריות של בתי העסק</h2>'), Output()))"
      ]
     },
     "metadata": {},
     "output_type": "display_data"
    }
   ],
   "source": [
    "import pandas as pd\n",
    "import ipywidgets as widgets\n",
    "from IPython.display import display\n",
    "\n",
    "# קריאת הנתונים הנקיים מהקבצים\n",
    "df1_clean = df1\n",
    "df2_clean = df2\n",
    "\n",
    "# המרה לסוגי נתונים מתאימים\n",
    "df1_clean['תאריך רכישה'] = pd.to_datetime(df1_clean['תאריך רכישה'], format='%d/%m/%Y', errors='coerce')\n",
    "df1_clean['סכום עסקה'] = pd.to_numeric(df1_clean['סכום עסקה'], errors='coerce')\n",
    "\n",
    "df2_clean['תאריך'] = pd.to_datetime(df2_clean['תאריך'], format='%d/%m/%Y', errors='coerce')\n",
    "df2_clean['חובה'] = pd.to_numeric(df2_clean['חובה'], errors='coerce')\n",
    "df2_clean['זכות'] = pd.to_numeric(df2_clean['זכות'], errors='coerce')\n",
    "\n",
    "\n",
    "\n",
    "# יצירת עמודות זהות בכל הקבצים\n",
    "df1_clean = df1_clean.rename(columns={'תאריך רכישה': 'תאריך'})\n",
    "df1_clean['סוג פעולה'] = 'עסקה'\n",
    "df1_clean['זכות'] = 0\n",
    "df1_clean['חובה'] = df1_clean['סכום עסקה']\n",
    "df1_clean = df1_clean[['תאריך', 'סוג פעולה', 'שם בית עסק', 'זכות', 'חובה']]\n",
    "\n",
    "df2_clean = df2_clean[['תאריך', 'סוג פעולה', 'תיאור', 'זכות', 'חובה']]\n",
    "df2_clean = df2_clean.rename(columns={'תיאור': 'שם בית עסק'})\n",
    "\n",
    "\n",
    "# איחוד הנתונים\n",
    "df_combined = pd.concat([df1_clean, df2_clean], ignore_index=True)\n",
    "\n",
    "# פילוח הכנסות לפי קטגוריות של בתי העסק\n",
    "income_by_category = df_combined[df_combined['זכות'] > 0].groupby('שם בית עסק')['זכות'].sum().reset_index()\n",
    "income_by_category.columns = ['שם בית עסק', 'סכום הכנסה']\n",
    "\n",
    "# יצירת טבלה באמצעות widgets\n",
    "income_by_category_widget = widgets.Output()\n",
    "with income_by_category_widget:\n",
    "    display(income_by_category)\n",
    "\n",
    "display(widgets.VBox([widgets.HTML(\"<h2>פילוח הכנסות לפי קטגוריות של בתי העסק</h2>\"), income_by_category_widget]))"
   ]
  },
  {
   "cell_type": "code",
   "execution_count": null,
   "id": "6620c4b4c223334d",
   "metadata": {
    "ExecuteTime": {
     "end_time": "2024-06-29T13:11:48.119046Z",
     "start_time": "2024-06-29T13:11:48.079767Z"
    }
   },
   "outputs": [],
   "source": []
  },
  {
   "cell_type": "code",
   "execution_count": 3,
   "id": "initial_id",
   "metadata": {
    "ExecuteTime": {
     "end_time": "2024-06-29T12:50:12.572380Z",
     "start_time": "2024-06-29T12:50:12.550251Z"
    }
   },
   "outputs": [
    {
     "data": {
      "application/vnd.jupyter.widget-view+json": {
       "model_id": "0f691fbff8bd4c8291e21dc0bf264d8b",
       "version_major": 2,
       "version_minor": 0
      },
      "text/plain": [
       "VBox(children=(HTML(value=\"<h2 style='text-align: right;'>פילוח הוצאות מהאשראי לפי קטגוריות</h2>\"), Output()))"
      ]
     },
     "metadata": {},
     "output_type": "display_data"
    }
   ],
   "source": [
    "import pandas as pd\n",
    "import ipywidgets as widgets\n",
    "from IPython.display import display\n",
    "\n",
    "# פילוח הוצאות מהאשראי (נניח שהעמודה המתאימה היא 'חובה')\n",
    "credit_expenses = df_combined[df_combined['סוג פעולה'] == 'עסקה'].groupby('שם בית עסק')['חובה'].sum().reset_index()\n",
    "credit_expenses.columns = ['שם בית עסק', 'סכום הוצאה']\n",
    "\n",
    "# יצירת טבלה באמצעות widgets\n",
    "credit_expenses_widget = widgets.Output()\n",
    "with credit_expenses_widget:\n",
    "    display(credit_expenses.style.format({'סכום הוצאה': '{:,.2f}'}).set_properties(**{'direction': 'rtl'}))\n",
    "\n",
    "display(widgets.VBox([widgets.HTML(\"<h2 style='text-align: right;'>פילוח הוצאות מהאשראי לפי קטגוריות</h2>\"), credit_expenses_widget]))\n"
   ]
  },
  {
   "cell_type": "code",
   "execution_count": 4,
   "id": "bfc34d955d84542c",
   "metadata": {
    "ExecuteTime": {
     "end_time": "2024-06-29T12:58:34.951736Z",
     "start_time": "2024-06-29T12:58:34.931265Z"
    }
   },
   "outputs": [
    {
     "name": "stdout",
     "output_type": "stream",
     "text": [
      "   עסקאות בארץ            Unnamed: 1 Unnamed: 2 Unnamed: 3 Unnamed: 4  \\\n",
      "0  תאריך רכישה            שם בית עסק  סכום עסקה  מטבע מקור  סכום חיוב   \n",
      "1   19/05/2024  בסר סיטי- סנטרל פארק         20          ₪         20   \n",
      "2   19/05/2024  פרש קיוסק ביאליק 133         19          ₪         19   \n",
      "3   19/05/2024         הסביח של עובד         32          ₪         32   \n",
      "4     21/05/24         סך חיוב בש\"ח:   21/05/24        NaN         71   \n",
      "5   19/05/2024             סופר באבא         26          ₪         26   \n",
      "6   20/05/2024  סופר פארם נוה מרום 4      39.51          ₪      39.51   \n",
      "7   20/05/2024  רשת כוורת בצה\"ל -טלפ          5          ₪          5   \n",
      "8     22/05/24         סך חיוב בש\"ח:   22/05/24        NaN      70.51   \n",
      "9   21/05/2024         קופי טיים בעמ         11          ₪         11   \n",
      "\n",
      "   Unnamed: 5 Unnamed: 6  Unnamed: 7  \n",
      "0  מטבע לחיוב  מספר שובר  פירוט נוסף  \n",
      "1           ₪    5003103         NaN  \n",
      "2           ₪    0001001         NaN  \n",
      "3           ₪    0001065         NaN  \n",
      "4           ₪        NaN         NaN  \n",
      "5           ₪    0002209         NaN  \n",
      "6           ₪    9009094         NaN  \n",
      "7           ₪    8001325         NaN  \n",
      "8           ₪        NaN         NaN  \n",
      "9           ₪    0001027         NaN  \n",
      "      תאריך סוג פעולה                 תיאור   אסמכתא     זכות     חובה  \\\n",
      "0                                יתרת פתיחה                              \n",
      "1  1.5.2024       162        2166 - ישראכרט    13795              1124   \n",
      "2  1.5.2024       222             מופ\"ת קבע     6273  8042.39            \n",
      "3  2.5.2024       162        2166 - ישראכרט    13795             20.75   \n",
      "4  2.5.2024       162        9557 - ישראכרט    13795           3238.51   \n",
      "5  2.5.2024       162  8673 - אמריקן אקספרס    48608           3876.86   \n",
      "6  2.5.2024       162     1509552 משיכת שיק  1509552              5200   \n",
      "7  2.5.2024       222                 זיכוי               550            \n",
      "8  2.5.2024       222                 זיכוי              1500            \n",
      "9  3.5.2024       162        2166 - ישראכרט    13795             303.7   \n",
      "\n",
      "  תאריך ערך      יתרה  \n",
      "0            36981.75  \n",
      "1  1.5.2024            \n",
      "2  1.5.2024  43900.14  \n",
      "3  2.5.2024            \n",
      "4  2.5.2024            \n",
      "5  2.5.2024            \n",
      "6  2.5.2024            \n",
      "7  2.5.2024            \n",
      "8  2.5.2024  33614.02  \n",
      "9  3.5.2024  33310.32  \n"
     ]
    }
   ],
   "source": [
    "import pandas as pd\n",
    "\n",
    "# קריאת הנתונים הנקיים מהקבצים\n",
    "df1_clean = pd.read_csv('/Users/guylavian/Downloads/Export_6_2024 (1).csv', header=3)\n",
    "df2_clean = pd.read_csv('/Users/guylavian/Downloads/1110624.csv', header=0)\n",
    "\n",
    "# הצגת השורות הראשונות כדי לזהות את העמודות הנכונות\n",
    "print(df1_clean.head(10))\n",
    "print(df2_clean.head(10))\n"
   ]
  },
  {
   "cell_type": "code",
   "execution_count": 5,
   "id": "060a30cc",
   "metadata": {
    "ExecuteTime": {
     "end_time": "2024-06-29T13:03:49.226063Z",
     "start_time": "2024-06-29T13:03:49.142943Z"
    }
   },
   "outputs": [
    {
     "name": "stdout",
     "output_type": "stream",
     "text": [
      "First few rows of df1_clean:\n",
      "  תאריך רכישה            שם בית עסק סכום עסקה מטבע מקור סכום חיוב מטבע לחיוב  \\\n",
      "0  19/05/2024  בסר סיטי- סנטרל פארק        20         ₪        20          ₪   \n",
      "1  19/05/2024  פרש קיוסק ביאליק 133        19         ₪        19          ₪   \n",
      "2  19/05/2024         הסביח של עובד        32         ₪        32          ₪   \n",
      "3    21/05/24         סך חיוב בש\"ח:  21/05/24       NaN        71          ₪   \n",
      "4  19/05/2024             סופר באבא        26         ₪        26          ₪   \n",
      "5  20/05/2024  סופר פארם נוה מרום 4     39.51         ₪     39.51          ₪   \n",
      "6  20/05/2024  רשת כוורת בצה\"ל -טלפ         5         ₪         5          ₪   \n",
      "7    22/05/24         סך חיוב בש\"ח:  22/05/24       NaN     70.51          ₪   \n",
      "8  21/05/2024         קופי טיים בעמ        11         ₪        11          ₪   \n",
      "9    23/05/24         סך חיוב בש\"ח:  23/05/24       NaN        11          ₪   \n",
      "\n",
      "  מספר שובר פירוט נוסף  \n",
      "0   5003103        NaN  \n",
      "1   0001001        NaN  \n",
      "2   0001065        NaN  \n",
      "3       NaN        NaN  \n",
      "4   0002209        NaN  \n",
      "5   9009094        NaN  \n",
      "6   8001325        NaN  \n",
      "7       NaN        NaN  \n",
      "8   0001027        NaN  \n",
      "9       NaN        NaN  \n",
      "\n",
      "First few rows of df2_clean:\n",
      "      תאריך סוג פעולה                 תיאור   אסמכתא     זכות     חובה  \\\n",
      "0                                יתרת פתיחה                              \n",
      "1  1.5.2024       162        2166 - ישראכרט    13795              1124   \n",
      "2  1.5.2024       222             מופ\"ת קבע     6273  8042.39            \n",
      "3  2.5.2024       162        2166 - ישראכרט    13795             20.75   \n",
      "4  2.5.2024       162        9557 - ישראכרט    13795           3238.51   \n",
      "5  2.5.2024       162  8673 - אמריקן אקספרס    48608           3876.86   \n",
      "6  2.5.2024       162     1509552 משיכת שיק  1509552              5200   \n",
      "7  2.5.2024       222                 זיכוי               550            \n",
      "8  2.5.2024       222                 זיכוי              1500            \n",
      "9  3.5.2024       162        2166 - ישראכרט    13795             303.7   \n",
      "\n",
      "  תאריך ערך      יתרה  \n",
      "0            36981.75  \n",
      "1  1.5.2024            \n",
      "2  1.5.2024  43900.14  \n",
      "3  2.5.2024            \n",
      "4  2.5.2024            \n",
      "5  2.5.2024            \n",
      "6  2.5.2024            \n",
      "7  2.5.2024            \n",
      "8  2.5.2024  33614.02  \n",
      "9  3.5.2024  33310.32  \n",
      "\n",
      "df1_clean types:\n",
      "תאריך רכישה    datetime64[ns]\n",
      "שם בית עסק             object\n",
      "סכום עסקה             float64\n",
      "מטבע מקור              object\n",
      "סכום חיוב              object\n",
      "מטבע לחיוב             object\n",
      "מספר שובר              object\n",
      "פירוט נוסף             object\n",
      "dtype: object\n",
      "\n",
      "df2_clean types:\n",
      "תאריך        datetime64[ns]\n",
      "סוג פעולה            object\n",
      "תיאור                object\n",
      "אסמכתא               object\n",
      "זכות                float64\n",
      "חובה                float64\n",
      "תאריך ערך            object\n",
      "יתרה                 object\n",
      "dtype: object\n",
      "\n",
      "Combined DataFrame first few rows:\n",
      "       תאריך סוג פעולה            שם בית עסק  זכות   חובה\n",
      "0 2024-05-19      עסקה  בסר סיטי- סנטרל פארק   0.0  20.00\n",
      "1 2024-05-19      עסקה  פרש קיוסק ביאליק 133   0.0  19.00\n",
      "2 2024-05-19      עסקה         הסביח של עובד   0.0  32.00\n",
      "3        NaT      עסקה         סך חיוב בש\"ח:   0.0    NaN\n",
      "4 2024-05-19      עסקה             סופר באבא   0.0  26.00\n",
      "5 2024-05-20      עסקה  סופר פארם נוה מרום 4   0.0  39.51\n",
      "6 2024-05-20      עסקה  רשת כוורת בצה\"ל -טלפ   0.0   5.00\n",
      "7        NaT      עסקה         סך חיוב בש\"ח:   0.0    NaN\n",
      "8 2024-05-21      עסקה         קופי טיים בעמ   0.0  11.00\n",
      "9        NaT      עסקה         סך חיוב בש\"ח:   0.0    NaN\n",
      "\n",
      "Number of rows after dropping duplicates: 128\n",
      "\n",
      "DataFrame after dropping duplicates:\n",
      "        תאריך סוג פעולה            שם בית עסק  זכות    חובה\n",
      "0  2024-05-19      עסקה  בסר סיטי- סנטרל פארק   0.0   20.00\n",
      "1  2024-05-19      עסקה  פרש קיוסק ביאליק 133   0.0   19.00\n",
      "2  2024-05-19      עסקה         הסביח של עובד   0.0   32.00\n",
      "3         NaT      עסקה         סך חיוב בש\"ח:   0.0     NaN\n",
      "4  2024-05-19      עסקה             סופר באבא   0.0   26.00\n",
      "5  2024-05-20      עסקה  סופר פארם נוה מרום 4   0.0   39.51\n",
      "6  2024-05-20      עסקה  רשת כוורת בצה\"ל -טלפ   0.0    5.00\n",
      "8  2024-05-21      עסקה         קופי טיים בעמ   0.0   11.00\n",
      "10 2024-05-22      עסקה         חבר אקשן צעיר   0.0  234.00\n",
      "11 2024-05-22      עסקה  רשת כוורת בצה\"ל -טלפ   0.0   30.00\n",
      "\n",
      "Total Income: 10669.39\n",
      "Total Expenses: 25387.420000000002\n",
      "Balance: -14718.030000000002\n"
     ]
    },
    {
     "data": {
      "application/vnd.jupyter.widget-view+json": {
       "model_id": "18e5307dd9fd4f48997355444165602f",
       "version_major": 2,
       "version_minor": 0
      },
      "text/plain": [
       "VBox(children=(HTML(value=\"<h2 style='text-align: right;'>מאזן הוצאות והכנסות לאחר הסרת כפילויות</h2>\"), Outpu…"
      ]
     },
     "metadata": {},
     "output_type": "display_data"
    }
   ],
   "source": [
    "import pandas as pd\n",
    "import ipywidgets as widgets\n",
    "from IPython.display import display\n",
    "\n",
    "# זיהוי השורה עם הכותרות הנכונות בקובץ הראשון\n",
    "header_row_1 = 5  # לשנות לפי השורה הנכונה\n",
    "\n",
    "# קריאת הקבצים מחדש עם הגדרת השורה הנכונה ככותרת\n",
    "df1_clean = pd.read_csv('/Users/guylavian/Downloads/Export_6_2024 (1).csv', header=4)\n",
    "df2_clean = pd.read_csv('/Users/guylavian/Downloads/1110624.csv', header=0)\n",
    "\n",
    "\n",
    "# הצגת כמה שורות ראשונות מכל קובץ כדי לבדוק את התוכן\n",
    "print(\"First few rows of df1_clean:\")\n",
    "print(df1_clean.head(10))\n",
    "print(\"\\nFirst few rows of df2_clean:\")\n",
    "print(df2_clean.head(10))\n",
    "\n",
    "# המרה לסוגי נתונים מתאימים\n",
    "df1_clean['תאריך רכישה'] = pd.to_datetime(df1_clean['תאריך רכישה'], format='%d/%m/%Y', errors='coerce')\n",
    "df1_clean['סכום עסקה'] = pd.to_numeric(df1_clean['סכום עסקה'], errors='coerce')\n",
    "\n",
    "df2_clean['תאריך'] = pd.to_datetime(df2_clean['תאריך'], format='%d/%m/%Y', errors='coerce')\n",
    "df2_clean['חובה'] = pd.to_numeric(df2_clean['חובה'], errors='coerce')\n",
    "df2_clean['זכות'] = pd.to_numeric(df2_clean['זכות'], errors='coerce')\n",
    "\n",
    "# בדיקת סוגי הנתונים לאחר ההמרה\n",
    "print(\"\\ndf1_clean types:\")\n",
    "print(df1_clean.dtypes)\n",
    "print(\"\\ndf2_clean types:\")\n",
    "print(df2_clean.dtypes)\n",
    "\n",
    "# יצירת עמודות זהות בכל הקבצים\n",
    "df1_clean = df1_clean.rename(columns={'תאריך רכישה': 'תאריך'})\n",
    "df1_clean['סוג פעולה'] = 'עסקה'\n",
    "df1_clean['זכות'] = 0\n",
    "df1_clean['חובה'] = df1_clean['סכום עסקה']\n",
    "df1_clean = df1_clean[['תאריך', 'סוג פעולה', 'שם בית עסק', 'זכות', 'חובה']]\n",
    "\n",
    "df2_clean = df2_clean[['תאריך', 'סוג פעולה', 'תיאור', 'זכות', 'חובה']]\n",
    "df2_clean = df2_clean.rename(columns={'תיאור': 'שם בית עסק'})\n",
    "\n",
    "# איחוד הנתונים\n",
    "df_combined = pd.concat([df1_clean, df2_clean], ignore_index=True)\n",
    "\n",
    "# הצגת הנתונים לאחר האיחוד\n",
    "print(\"\\nCombined DataFrame first few rows:\")\n",
    "print(df_combined.head(10))\n",
    "\n",
    "# זיהוי והסרת כפילויות\n",
    "df_combined.drop_duplicates(subset=['תאריך', 'שם בית עסק', 'זכות', 'חובה'], inplace=True)\n",
    "\n",
    "# הצגת מספר השורות לאחר הסרת כפילויות\n",
    "print(\"\\nNumber of rows after dropping duplicates:\", len(df_combined))\n",
    "\n",
    "# הצגת הנתונים לאחר הסרת כפילויות\n",
    "print(\"\\nDataFrame after dropping duplicates:\")\n",
    "print(df_combined.head(10))\n",
    "\n",
    "# חישוב סך ההכנסות וההוצאות\n",
    "total_income = df_combined['זכות'].sum()\n",
    "total_expenses = df_combined['חובה'].sum()\n",
    "balance = total_income - total_expenses\n",
    "\n",
    "# הצגת סך ההכנסות וההוצאות\n",
    "print(f\"\\nTotal Income: {total_income}\")\n",
    "print(f\"Total Expenses: {total_expenses}\")\n",
    "print(f\"Balance: {balance}\")\n",
    "\n",
    "# יצירת DataFrame לתצוגה\n",
    "income_expense_data = {\n",
    "    'סוג': ['הכנסות', 'הוצאות', 'יתרה'],\n",
    "    'סכום': [total_income, total_expenses, balance]\n",
    "}\n",
    "income_expense_df = pd.DataFrame(income_expense_data)\n",
    "\n",
    "# יצירת טבלה באמצעות widgets\n",
    "income_expense_widget = widgets.Output()\n",
    "with income_expense_widget:\n",
    "    display(income_expense_df.style.format({'סכום': '{:,.2f}'}).set_properties(**{'direction': 'rtl'}))\n",
    "\n",
    "display(widgets.VBox([widgets.HTML(\"<h2 style='text-align: right;'>מאזן הוצאות והכנסות לאחר הסרת כפילויות</h2>\"), income_expense_widget]))"
   ]
  },
  {
   "cell_type": "code",
   "execution_count": 6,
   "id": "e335dcdbbff947ad",
   "metadata": {
    "ExecuteTime": {
     "end_time": "2024-06-29T12:51:12.472055Z",
     "start_time": "2024-06-29T12:51:12.427641Z"
    }
   },
   "outputs": [
    {
     "data": {
      "application/vnd.jupyter.widget-view+json": {
       "model_id": "bffcc3c4f01144cbbfbeb7f78e36548f",
       "version_major": 2,
       "version_minor": 0
      },
      "text/plain": [
       "VBox(children=(HTML(value=\"<h2 style='text-align: right;'>מאזן הוצאות והכנסות</h2>\"), Output()))"
      ]
     },
     "metadata": {},
     "output_type": "display_data"
    }
   ],
   "source": [
    "import pandas as pd\n",
    "import ipywidgets as widgets\n",
    "from IPython.display import display\n",
    "\n",
    "# חישוב סך ההכנסות וההוצאות\n",
    "total_income = df_combined['זכות'].sum()\n",
    "total_expenses = df_combined['חובה'].sum()\n",
    "balance = total_income - total_expenses\n",
    "\n",
    "# יצירת DataFrame לתצוגה\n",
    "income_expense_data = {\n",
    "    'סוג': ['הכנסות', 'הוצאות', 'יתרה'],\n",
    "    'סכום': [total_income, total_expenses, balance]\n",
    "}\n",
    "income_expense_df = pd.DataFrame(income_expense_data)\n",
    "\n",
    "# יצירת טבלה באמצעות widgets\n",
    "income_expense_widget = widgets.Output()\n",
    "with income_expense_widget:\n",
    "    display(income_expense_df.style.format({'סכום': '{:,.2f}'}).set_properties(**{'direction': 'rtl'}))\n",
    "\n",
    "display(widgets.VBox([widgets.HTML(\"<h2 style='text-align: right;'>מאזן הוצאות והכנסות</h2>\"), income_expense_widget]))\n"
   ]
  },
  {
   "cell_type": "markdown",
   "id": "eb4692a1bd647595",
   "metadata": {},
   "source": []
  },
  {
   "cell_type": "code",
   "execution_count": 7,
   "id": "63440de38229a307",
   "metadata": {
    "ExecuteTime": {
     "end_time": "2024-06-29T12:31:14.918460Z",
     "start_time": "2024-06-29T12:31:14.907535Z"
    }
   },
   "outputs": [
    {
     "data": {
      "application/vnd.jupyter.widget-view+json": {
       "model_id": "ab9ce8b436b646019b0f495368d160a4",
       "version_major": 2,
       "version_minor": 0
      },
      "text/plain": [
       "VBox(children=(HTML(value='<h2>פילוח הכנסות לפי קטגוריות של בתי העסק</h2>'), Output()))"
      ]
     },
     "metadata": {},
     "output_type": "display_data"
    }
   ],
   "source": [
    "import pandas as pd\n",
    "import ipywidgets as widgets\n",
    "from IPython.display import display\n",
    "\n",
    "# יצירת עמודת 'סוג פעולה' להבחנה בין הכנסות להוצאות אם לא קיימת\n",
    "df_combined['סוג פעולה'] = df_combined.apply(lambda row: 'הכנסה' if row['זכות'] > 0 else 'הוצאה', axis=1)\n",
    "\n",
    "# פילוח הכנסות לפי קטגוריות של בתי העסק\n",
    "income_by_category = df_combined[df_combined['סוג פעולה'] == 'הכנסה'].groupby('שם בית עסק')['זכות'].sum().reset_index()\n",
    "income_by_category.columns = ['שם בית עסק', 'סכום הכנסה']\n",
    "\n",
    "# יצירת טבלה באמצעות widgets\n",
    "income_by_category_widget = widgets.Output()\n",
    "with income_by_category_widget:\n",
    "    display(income_by_category)\n",
    "\n",
    "display(widgets.VBox([widgets.HTML(\"<h2>פילוח הכנסות לפי קטגוריות של בתי העסק</h2>\"), income_by_category_widget]))\n"
   ]
  }
 ],
 "metadata": {
  "kernelspec": {
   "display_name": "Python 3 (ipykernel)",
   "language": "python",
   "name": "python3"
  },
  "language_info": {
   "codemirror_mode": {
    "name": "ipython",
    "version": 3
   },
   "file_extension": ".py",
   "mimetype": "text/x-python",
   "name": "python",
   "nbconvert_exporter": "python",
   "pygments_lexer": "ipython3",
   "version": "3.11.5"
  }
 },
 "nbformat": 4,
 "nbformat_minor": 5
}
